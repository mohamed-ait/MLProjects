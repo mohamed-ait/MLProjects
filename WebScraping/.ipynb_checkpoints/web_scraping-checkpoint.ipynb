{
 "cells": [
  {
   "cell_type": "code",
   "execution_count": 1,
   "id": "9847aad4",
   "metadata": {},
   "outputs": [],
   "source": [
    "import requests\n",
    "from bs4 import BeautifulSoup\n",
    "import csv\n",
    "from itertools import zip_longest"
   ]
  },
  {
   "cell_type": "code",
   "execution_count": 2,
   "id": "ccd83196",
   "metadata": {},
   "outputs": [],
   "source": [
    "# lists of attributs values : \n",
    "company_name = []\n",
    "job_title = []\n",
    "locations = []\n",
    "skills = []\n",
    "links = []\n",
    "salaries = []"
   ]
  },
  {
   "cell_type": "code",
   "execution_count": 3,
   "id": "432931cf",
   "metadata": {},
   "outputs": [],
   "source": [
    "#use request to fetch the url \n",
    "result = requests.get(\"https://wuzzuf.net/search/jobs/?q=python&a=hpb\")"
   ]
  },
  {
   "cell_type": "code",
   "execution_count": 4,
   "id": "c1216550",
   "metadata": {},
   "outputs": [],
   "source": [
    "#save page content/markup\n",
    "src=result.content\n"
   ]
  },
  {
   "cell_type": "code",
   "execution_count": 5,
   "id": "39e1946a",
   "metadata": {},
   "outputs": [],
   "source": [
    "#create soup object to parse content \n",
    "soup = BeautifulSoup(src,\"lxml\")"
   ]
  },
  {
   "cell_type": "code",
   "execution_count": 6,
   "id": "2a84173d",
   "metadata": {},
   "outputs": [],
   "source": [
    "#find the elements containing info we need\n",
    "#----> job titles , job skills , company  names , location names \n",
    "job_titles = soup.find_all(\"h2\",{\"class\":\"css-m604qf\"})\n",
    "company_names = soup.find_all(\"a\",{\"class\":\"css-17s97q8\"})\n",
    "location_names = soup.find_all(\"span\",{\"class\":\"css-5wys0k\"})\n",
    "job_skills = soup.find_all(\"div\",{\"class\":\"css-y4udm8\"})"
   ]
  },
  {
   "cell_type": "code",
   "execution_count": 12,
   "id": "fe17e21f",
   "metadata": {},
   "outputs": [
    {
     "name": "stdout",
     "output_type": "stream",
     "text": [
      "None\n"
     ]
    }
   ],
   "source": [
    "#loop over returned lists to extract needed info into other lists \n",
    "for i in range(len(job_titles)):\n",
    "    job_title.append(job_titles[i].text)\n",
    "    links.append(job_titles[i].find(\"a\").attrs[\"href\"])\n",
    "    company_name.append(company_names[i].text)\n",
    "    locations.append(location_names[i].text)\n",
    "    skills.append(job_skills[i].text)  \n",
    "divs = []\n",
    "    \n",
    "for link in links :\n",
    "    result = requests.get(\"https://wuzzuf.net\"+link) \n",
    "    src=result.content\n",
    "    soup = BeautifulSoup(src,\"lxml\")\n",
    "    divs=soup.find(\"div\",{\"class\":\"css-rcl8e5\"})\n",
    "print(divs)"
   ]
  },
  {
   "cell_type": "code",
   "execution_count": null,
   "id": "a352c706",
   "metadata": {},
   "outputs": [],
   "source": [
    "#create csv file and fill it with values :\n",
    "file_list = [job_title, company_name,locations,skills,links]\n",
    "#combine data as rows :\n",
    "exported = zip_longest(*file_list)\n",
    "print(exported)\n",
    "with open(\"C:\\\\Users\\HP\\Desktop\\MLProjects\\MLProjects\\WebScraping\\jobData.csv\" , \"w\") as myfile:\n",
    "    wr = csv.writer(myfile)\n",
    "    wr.writerow([\"job title\",\"company name\",\"location\",\"skills\",\"links\"])\n",
    "    wr.writerows(exported)"
   ]
  },
  {
   "cell_type": "code",
   "execution_count": null,
   "id": "f9291a28",
   "metadata": {},
   "outputs": [],
   "source": []
  }
 ],
 "metadata": {
  "kernelspec": {
   "display_name": "Python 3 (ipykernel)",
   "language": "python",
   "name": "python3"
  },
  "language_info": {
   "codemirror_mode": {
    "name": "ipython",
    "version": 3
   },
   "file_extension": ".py",
   "mimetype": "text/x-python",
   "name": "python",
   "nbconvert_exporter": "python",
   "pygments_lexer": "ipython3",
   "version": "3.10.7"
  }
 },
 "nbformat": 4,
 "nbformat_minor": 5
}
